{
 "cells": [
  {
   "cell_type": "markdown",
   "id": "e7a5993f",
   "metadata": {},
   "source": [
    "#  Importing Required Libraries\n",
    "\n",
    "In this section, we import all the essential Python libraries required for data loading, preprocessing, encoding, model training, and evaluation.\n"
   ]
  },
  {
   "cell_type": "code",
   "execution_count": 2,
   "id": "ce244149",
   "metadata": {},
   "outputs": [],
   "source": [
    "import numpy as np\n",
    "import pandas as pd\n",
    "import seaborn as sns\n",
    "import matplotlib.pyplot as plt\n",
    "%matplotlib inline\n",
    "import warnings\n",
    "warnings.filterwarnings(\"ignore\")\n",
    "\n"
   ]
  },
  {
   "cell_type": "markdown",
   "id": "32e0f22c",
   "metadata": {},
   "source": [
    "# Loading the Dataset\n",
    "\n",
    "Here, we read the Car Evaluation dataset using `pandas` and take a quick look at its structure.\n"
   ]
  },
  {
   "cell_type": "code",
   "execution_count": 3,
   "id": "58be0eb0",
   "metadata": {},
   "outputs": [],
   "source": [
    "df=pd.read_csv(\"data/car.csv\")"
   ]
  },
  {
   "cell_type": "markdown",
   "id": "8cd7ab7b",
   "metadata": {},
   "source": [
    "#  Feature and Target Separation\n",
    "\n",
    "We now separate the input features from the target label (`acceptability`) for further processing.\n"
   ]
  },
  {
   "cell_type": "code",
   "execution_count": 4,
   "id": "4199efd7",
   "metadata": {},
   "outputs": [],
   "source": [
    "X=df.drop(columns=['acceptability'],axis=1)"
   ]
  },
  {
   "cell_type": "code",
   "execution_count": 9,
   "id": "36a99153",
   "metadata": {},
   "outputs": [],
   "source": [
    "Y=df['acceptability']"
   ]
  },
  {
   "cell_type": "markdown",
   "id": "11590e8e",
   "metadata": {},
   "source": [
    "#  Encoding Categorical Features and Preprocessing Pipeline\n",
    "\n",
    "All input features are categorical. We use `OneHotEncoder` to convert them into numerical format so that machine learning models can understand them.\n",
    "\n",
    "We create a preprocessing pipeline using `ColumnTransformer` and `OneHotEncoder` to handle categorical feature transformation in a structured and repeatable way."
   ]
  },
  {
   "cell_type": "code",
   "execution_count": 6,
   "id": "9898fc4c",
   "metadata": {},
   "outputs": [],
   "source": [
    "from sklearn.preprocessing import OneHotEncoder\n",
    "from sklearn.compose import ColumnTransformer\n",
    "\n",
    "oh_transformer=OneHotEncoder()\n",
    "\n",
    "cat_features=X.select_dtypes(include=\"object\").columns\n",
    "preprocessor=ColumnTransformer([\n",
    "    (\"OneHotEncoder\",oh_transformer,cat_features)\n",
    "]\n",
    ")\n"
   ]
  },
  {
   "cell_type": "code",
   "execution_count": 7,
   "id": "234bedce",
   "metadata": {},
   "outputs": [],
   "source": [
    "X=preprocessor.fit_transform(X)\n"
   ]
  },
  {
   "cell_type": "markdown",
   "id": "43f643df",
   "metadata": {},
   "source": [
    "#  Splitting Data into Train and Test Sets\n",
    "\n",
    "We split the dataset into training and testing subsets (80% train, 20% test) to evaluate the model’s generalization performance.\n"
   ]
  },
  {
   "cell_type": "code",
   "execution_count": 14,
   "id": "4379332e",
   "metadata": {},
   "outputs": [],
   "source": [
    "from sklearn.model_selection import train_test_split\n",
    "X_Train,X_Test,Y_Train,Y_Test=train_test_split(X,Y,test_size=0.2,random_state=42)\n"
   ]
  },
  {
   "cell_type": "markdown",
   "id": "feeeb853",
   "metadata": {},
   "source": [
    "#  Model Evaluation\n",
    "\n",
    "We evaluate the model using accuracy score, classification report to check how well it performs on unseen data.\n"
   ]
  },
  {
   "cell_type": "code",
   "execution_count": 12,
   "id": "76cf0d26",
   "metadata": {},
   "outputs": [],
   "source": [
    "from sklearn.metrics import accuracy_score, classification_report\n",
    "\n",
    "def evaluate(model, X, y_true):\n",
    "    y_pred = model.predict(X)\n",
    "    print(\"Accuracy:\", accuracy_score(y_true, y_pred))\n",
    "    print(\"Classification Report:\\n\", classification_report(y_true, y_pred))\n"
   ]
  },
  {
   "cell_type": "markdown",
   "id": "dde4f63c",
   "metadata": {},
   "source": [
    "#  Training the Machine Learning Model\n",
    "\n",
    "We train a `RandomForestClassifier` on the processed training data. This model is suitable for handling categorical data and works well out-of-the-box.\n"
   ]
  },
  {
   "cell_type": "code",
   "execution_count": 13,
   "id": "91346c38",
   "metadata": {},
   "outputs": [
    {
     "name": "stdout",
     "output_type": "stream",
     "text": [
      "Accuracy: 1.0\n",
      "Classification Report:\n",
      "               precision    recall  f1-score   support\n",
      "\n",
      "         acc       1.00      1.00      1.00       301\n",
      "        good       1.00      1.00      1.00        58\n",
      "       unacc       1.00      1.00      1.00       975\n",
      "       vgood       1.00      1.00      1.00        48\n",
      "\n",
      "    accuracy                           1.00      1382\n",
      "   macro avg       1.00      1.00      1.00      1382\n",
      "weighted avg       1.00      1.00      1.00      1382\n",
      "\n",
      "Accuracy: 0.953757225433526\n",
      "Classification Report:\n",
      "               precision    recall  f1-score   support\n",
      "\n",
      "         acc       0.94      0.88      0.91        83\n",
      "        good       0.60      0.82      0.69        11\n",
      "       unacc       0.98      1.00      0.99       235\n",
      "       vgood       0.93      0.76      0.84        17\n",
      "\n",
      "    accuracy                           0.95       346\n",
      "   macro avg       0.86      0.87      0.86       346\n",
      "weighted avg       0.96      0.95      0.95       346\n",
      "\n"
     ]
    }
   ],
   "source": [
    "from sklearn.ensemble import RandomForestClassifier\n",
    "models={\n",
    "    \"Random Forest Classifier\":RandomForestClassifier(n_estimators=100, max_depth=10, random_state=42)\n",
    "}\n",
    "model_list=[]\n",
    "\n",
    "for i in range(len(models)):\n",
    "    model=list(models.values())[i]\n",
    "    model.fit(X_Train,Y_Train)\n",
    "\n",
    "\n",
    "    evaluate(model,X_Train,Y_Train)\n",
    "    evaluate(model,X_Test,Y_Test)\n"
   ]
  }
 ],
 "metadata": {
  "kernelspec": {
   "display_name": ".venv (3.11.9)",
   "language": "python",
   "name": "python3"
  },
  "language_info": {
   "codemirror_mode": {
    "name": "ipython",
    "version": 3
   },
   "file_extension": ".py",
   "mimetype": "text/x-python",
   "name": "python",
   "nbconvert_exporter": "python",
   "pygments_lexer": "ipython3",
   "version": "3.11.9"
  }
 },
 "nbformat": 4,
 "nbformat_minor": 5
}
